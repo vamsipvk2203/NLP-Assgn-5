{
  "nbformat": 4,
  "nbformat_minor": 0,
  "metadata": {
    "kernelspec": {
      "display_name": "Python 3",
      "language": "python",
      "name": "python3"
    },
    "language_info": {
      "codemirror_mode": {
        "name": "ipython",
        "version": 3
      },
      "file_extension": ".py",
      "mimetype": "text/x-python",
      "name": "python",
      "nbconvert_exporter": "python",
      "pygments_lexer": "ipython3",
      "version": "3.6.1"
    },
    "colab": {
      "name": "Insult_detection(NLP_Case_Study).ipynb",
      "provenance": [],
      "include_colab_link": true
    }
  },
  "cells": [
    {
      "cell_type": "markdown",
      "metadata": {
        "id": "view-in-github",
        "colab_type": "text"
      },
      "source": [
        "<a href=\"https://colab.research.google.com/github/vamsipvk2203/NLP-Assgn-5/blob/main/Insult_detection(NLP_Case_Study).ipynb\" target=\"_parent\"><img src=\"https://colab.research.google.com/assets/colab-badge.svg\" alt=\"Open In Colab\"/></a>"
      ]
    },
    {
      "cell_type": "markdown",
      "metadata": {
        "id": "16CNlAsKZVXx"
      },
      "source": [
        "## Title:\n",
        "### Detecting Insults in Social Commentary\n",
        "\n",
        "## Group Members:\n",
        "* P.Vamsi Krishna - AM.EN.U4CSE17152\n",
        "* P.V.S Sri Alavandar - AM.EN.U4CSE17150\n",
        "* T.Pramodh - AM.EN.U4CSE17339\n",
        "* P.V V Sai Akhilesh - AM.EN.U4CSE17250"
      ]
    },
    {
      "cell_type": "markdown",
      "metadata": {
        "id": "MDR_2hdrJdFW"
      },
      "source": [
        "Alavandar"
      ]
    },
    {
      "cell_type": "markdown",
      "metadata": {
        "id": "CxrpgVomri4b"
      },
      "source": [
        "\n",
        "### Problem Definition:\n",
        "\n",
        "The challenge is to detect if a comment from an online conversation (Comment section) can be considered insulting to another participant in the conversation. The idea is to create a generalizable binary classifier which could operate in accurately classifying the new comments int their respective labels. In this project, We have built a system, that can detect, whether or not, any given comment is insulting, by building a machine learning system.\n",
        "\n",
        "This project also tests the dataset with different classifier models, both **Linear & Non-Linear** and decide which might be the best classifier for this purpose.\n",
        "\n",
        "\n",
        "Dataset: https://www.kaggle.com/c/detecting-insults-in-social-commentary\n",
        "\n",
        "\n"
      ]
    },
    {
      "cell_type": "code",
      "metadata": {
        "colab": {
          "base_uri": "https://localhost:8080/"
        },
        "id": "cgxa0Vh40fdL",
        "outputId": "d31a8df1-118c-4618-e671-ccb56615810b"
      },
      "source": [
        "!unzip detecting-insults-in-social-commentary.zip"
      ],
      "execution_count": null,
      "outputs": [
        {
          "output_type": "stream",
          "text": [
            "Archive:  detecting-insults-in-social-commentary.zip\n",
            "  inflating: impermium_verification_labels.csv  \n",
            "  inflating: impermium_verification_set.csv  \n",
            "  inflating: sample_submission_null.csv  \n",
            "  inflating: test.csv                \n",
            "  inflating: test_with_solutions.csv  \n",
            "  inflating: train.csv               \n"
          ],
          "name": "stdout"
        }
      ]
    },
    {
      "cell_type": "code",
      "metadata": {
        "colab": {
          "base_uri": "https://localhost:8080/"
        },
        "id": "uH4-UjuF4xks",
        "outputId": "6a3d59dd-9ffd-44e4-e2ee-91c9ff8ce673"
      },
      "source": [
        "!pip install nltk"
      ],
      "execution_count": null,
      "outputs": [
        {
          "output_type": "stream",
          "text": [
            "Requirement already satisfied: nltk in /usr/local/lib/python3.6/dist-packages (3.2.5)\n",
            "Requirement already satisfied: six in /usr/local/lib/python3.6/dist-packages (from nltk) (1.15.0)\n"
          ],
          "name": "stdout"
        }
      ]
    },
    {
      "cell_type": "code",
      "metadata": {
        "id": "dE10EEk3ri4b"
      },
      "source": [
        "import numpy as np\n",
        "import pandas as pd\n",
        "import sklearn\n",
        "# to split data\n",
        "from sklearn.model_selection import train_test_split, ShuffleSplit\n",
        "import sklearn.feature_extraction.text as text"
      ],
      "execution_count": null,
      "outputs": []
    },
    {
      "cell_type": "markdown",
      "metadata": {
        "id": "2X3Jm_G8ri4c"
      },
      "source": [
        "# Methodology"
      ]
    },
    {
      "cell_type": "markdown",
      "metadata": {
        "id": "PC1ZoD51ri4c"
      },
      "source": [
        "## I. Importing the data\n",
        "\n",
        "Data for training and testing is obtained from Kaggle. The data set contains 3947 examples, each of which consists of the text of a particular post and its desired label. A label of 1 represents an insulting post, while a label of 0 represents a non-insulting post. \n",
        "\n",
        "For Example, \n",
        "\n",
        "**Text:** “You’re a moron, truth is beyond your reach”, Label: 1\n",
        "\n",
        "**Text:** “I’ll take that temp…I really hate the heat”, Label: 0\n"
      ]
    },
    {
      "cell_type": "markdown",
      "metadata": {
        "id": "eBth2Wgtri4c"
      },
      "source": [
        "### Loading and preparing the data"
      ]
    },
    {
      "cell_type": "code",
      "metadata": {
        "id": "FSWfTOJcri4c"
      },
      "source": [
        "# Open the training file with pandas.\n",
        "df = pd.read_csv(\"train.csv\")"
      ],
      "execution_count": null,
      "outputs": []
    },
    {
      "cell_type": "code",
      "metadata": {
        "colab": {
          "base_uri": "https://localhost:8080/",
          "height": 198
        },
        "id": "p4inGLzDri4c",
        "outputId": "41edf6d7-ce4b-439c-c251-33628949b416"
      },
      "source": [
        "# Inspect complete dataset\n",
        "df.head(5)"
      ],
      "execution_count": null,
      "outputs": [
        {
          "output_type": "execute_result",
          "data": {
            "text/html": [
              "<div>\n",
              "<style scoped>\n",
              "    .dataframe tbody tr th:only-of-type {\n",
              "        vertical-align: middle;\n",
              "    }\n",
              "\n",
              "    .dataframe tbody tr th {\n",
              "        vertical-align: top;\n",
              "    }\n",
              "\n",
              "    .dataframe thead th {\n",
              "        text-align: right;\n",
              "    }\n",
              "</style>\n",
              "<table border=\"1\" class=\"dataframe\">\n",
              "  <thead>\n",
              "    <tr style=\"text-align: right;\">\n",
              "      <th></th>\n",
              "      <th>Insult</th>\n",
              "      <th>Date</th>\n",
              "      <th>Comment</th>\n",
              "    </tr>\n",
              "  </thead>\n",
              "  <tbody>\n",
              "    <tr>\n",
              "      <th>0</th>\n",
              "      <td>1</td>\n",
              "      <td>20120618192155Z</td>\n",
              "      <td>\"You fuck your dad.\"</td>\n",
              "    </tr>\n",
              "    <tr>\n",
              "      <th>1</th>\n",
              "      <td>0</td>\n",
              "      <td>20120528192215Z</td>\n",
              "      <td>\"i really don't understand your point.\\xa0 It ...</td>\n",
              "    </tr>\n",
              "    <tr>\n",
              "      <th>2</th>\n",
              "      <td>0</td>\n",
              "      <td>NaN</td>\n",
              "      <td>\"A\\\\xc2\\\\xa0majority of Canadians can and has ...</td>\n",
              "    </tr>\n",
              "    <tr>\n",
              "      <th>3</th>\n",
              "      <td>0</td>\n",
              "      <td>NaN</td>\n",
              "      <td>\"listen if you dont wanna get married to a man...</td>\n",
              "    </tr>\n",
              "    <tr>\n",
              "      <th>4</th>\n",
              "      <td>0</td>\n",
              "      <td>20120619094753Z</td>\n",
              "      <td>\"C\\xe1c b\\u1ea1n xu\\u1ed1ng \\u0111\\u01b0\\u1edd...</td>\n",
              "    </tr>\n",
              "  </tbody>\n",
              "</table>\n",
              "</div>"
            ],
            "text/plain": [
              "   Insult             Date                                            Comment\n",
              "0       1  20120618192155Z                               \"You fuck your dad.\"\n",
              "1       0  20120528192215Z  \"i really don't understand your point.\\xa0 It ...\n",
              "2       0              NaN  \"A\\\\xc2\\\\xa0majority of Canadians can and has ...\n",
              "3       0              NaN  \"listen if you dont wanna get married to a man...\n",
              "4       0  20120619094753Z  \"C\\xe1c b\\u1ea1n xu\\u1ed1ng \\u0111\\u01b0\\u1edd..."
            ]
          },
          "metadata": {
            "tags": []
          },
          "execution_count": 5
        }
      ]
    },
    {
      "cell_type": "code",
      "metadata": {
        "colab": {
          "base_uri": "https://localhost:8080/"
        },
        "id": "i9tWv81-ri4d",
        "outputId": "87d89dbe-c2fe-46d4-c179-68d87a5986cb"
      },
      "source": [
        "# getting the shape of dataframe\n",
        "df.shape"
      ],
      "execution_count": null,
      "outputs": [
        {
          "output_type": "execute_result",
          "data": {
            "text/plain": [
              "(3947, 3)"
            ]
          },
          "metadata": {
            "tags": []
          },
          "execution_count": 6
        }
      ]
    },
    {
      "cell_type": "code",
      "metadata": {
        "colab": {
          "base_uri": "https://localhost:8080/",
          "height": 138
        },
        "id": "x8KiGZxqri4d",
        "outputId": "6c0ee888-dbe4-4e29-f3e2-a475b5d26026"
      },
      "source": [
        "# Getting the Count of Positive and Negative\n",
        "df[['Comment','Insult']].groupby('Insult').count()"
      ],
      "execution_count": null,
      "outputs": [
        {
          "output_type": "execute_result",
          "data": {
            "text/html": [
              "<div>\n",
              "<style scoped>\n",
              "    .dataframe tbody tr th:only-of-type {\n",
              "        vertical-align: middle;\n",
              "    }\n",
              "\n",
              "    .dataframe tbody tr th {\n",
              "        vertical-align: top;\n",
              "    }\n",
              "\n",
              "    .dataframe thead th {\n",
              "        text-align: right;\n",
              "    }\n",
              "</style>\n",
              "<table border=\"1\" class=\"dataframe\">\n",
              "  <thead>\n",
              "    <tr style=\"text-align: right;\">\n",
              "      <th></th>\n",
              "      <th>Comment</th>\n",
              "    </tr>\n",
              "    <tr>\n",
              "      <th>Insult</th>\n",
              "      <th></th>\n",
              "    </tr>\n",
              "  </thead>\n",
              "  <tbody>\n",
              "    <tr>\n",
              "      <th>0</th>\n",
              "      <td>2898</td>\n",
              "    </tr>\n",
              "    <tr>\n",
              "      <th>1</th>\n",
              "      <td>1049</td>\n",
              "    </tr>\n",
              "  </tbody>\n",
              "</table>\n",
              "</div>"
            ],
            "text/plain": [
              "        Comment\n",
              "Insult         \n",
              "0          2898\n",
              "1          1049"
            ]
          },
          "metadata": {
            "tags": []
          },
          "execution_count": 7
        }
      ]
    },
    {
      "cell_type": "code",
      "metadata": {
        "colab": {
          "base_uri": "https://localhost:8080/",
          "height": 335
        },
        "id": "XGba-wl_uXZA",
        "outputId": "1daadc18-12ee-4495-bdff-46fcbebade5d"
      },
      "source": [
        "import matplotlib.pyplot as plt\n",
        "df['Insult'].value_counts().plot.bar(color = 'red', figsize=(7,5))"
      ],
      "execution_count": null,
      "outputs": [
        {
          "output_type": "execute_result",
          "data": {
            "text/plain": [
              "<matplotlib.axes._subplots.AxesSubplot at 0x7efcd6e2c4e0>"
            ]
          },
          "metadata": {
            "tags": []
          },
          "execution_count": 8
        },
        {
          "output_type": "display_data",
          "data": {
            "image/png": "[encoded data removed]",
            "text/plain": [
              "<Figure size 504x360 with 1 Axes>"
            ]
          },
          "metadata": {
            "tags": [],
            "needs_background": "light"
          }
        }
      ]
    },
    {
      "cell_type": "markdown",
      "metadata": {
        "id": "zgZq8Fy2ri4d"
      },
      "source": [
        "In total, **1049** of the examples are labelled as **“insulting”**, while the remaining **2898** examples are labelled as **“not insulting”**."
      ]
    },
    {
      "cell_type": "code",
      "metadata": {
        "colab": {
          "base_uri": "https://localhost:8080/",
          "height": 198
        },
        "id": "rrxOh7fRri4d",
        "outputId": "17d41c28-ebaf-4034-ad90-29ba2b25efc7"
      },
      "source": [
        "# Inspect data\n",
        "df[['Insult', 'Comment']].tail(5)"
      ],
      "execution_count": null,
      "outputs": [
        {
          "output_type": "execute_result",
          "data": {
            "text/html": [
              "<div>\n",
              "<style scoped>\n",
              "    .dataframe tbody tr th:only-of-type {\n",
              "        vertical-align: middle;\n",
              "    }\n",
              "\n",
              "    .dataframe tbody tr th {\n",
              "        vertical-align: top;\n",
              "    }\n",
              "\n",
              "    .dataframe thead th {\n",
              "        text-align: right;\n",
              "    }\n",
              "</style>\n",
              "<table border=\"1\" class=\"dataframe\">\n",
              "  <thead>\n",
              "    <tr style=\"text-align: right;\">\n",
              "      <th></th>\n",
              "      <th>Insult</th>\n",
              "      <th>Comment</th>\n",
              "    </tr>\n",
              "  </thead>\n",
              "  <tbody>\n",
              "    <tr>\n",
              "      <th>3942</th>\n",
              "      <td>1</td>\n",
              "      <td>\"you are both morons and that is never happening\"</td>\n",
              "    </tr>\n",
              "    <tr>\n",
              "      <th>3943</th>\n",
              "      <td>0</td>\n",
              "      <td>\"Many toolbars include spell check, like Yahoo...</td>\n",
              "    </tr>\n",
              "    <tr>\n",
              "      <th>3944</th>\n",
              "      <td>0</td>\n",
              "      <td>\"@LambeauOrWrigley\\xa0\\xa0@K.Moss\\xa0\\nSioux F...</td>\n",
              "    </tr>\n",
              "    <tr>\n",
              "      <th>3945</th>\n",
              "      <td>0</td>\n",
              "      <td>\"How about Felix? He is sure turning into one ...</td>\n",
              "    </tr>\n",
              "    <tr>\n",
              "      <th>3946</th>\n",
              "      <td>0</td>\n",
              "      <td>\"You're all upset, defending this hipster band...</td>\n",
              "    </tr>\n",
              "  </tbody>\n",
              "</table>\n",
              "</div>"
            ],
            "text/plain": [
              "      Insult                                            Comment\n",
              "3942       1  \"you are both morons and that is never happening\"\n",
              "3943       0  \"Many toolbars include spell check, like Yahoo...\n",
              "3944       0  \"@LambeauOrWrigley\\xa0\\xa0@K.Moss\\xa0\\nSioux F...\n",
              "3945       0  \"How about Felix? He is sure turning into one ...\n",
              "3946       0  \"You're all upset, defending this hipster band..."
            ]
          },
          "metadata": {
            "tags": []
          },
          "execution_count": 9
        }
      ]
    },
    {
      "cell_type": "code",
      "metadata": {
        "colab": {
          "base_uri": "https://localhost:8080/",
          "height": 348
        },
        "id": "uazrbP8hrzX8",
        "outputId": "3959fb99-0998-44d1-f32c-6a0c74a15818"
      },
      "source": [
        "#Code for checking 10 Not-insulting Comments\n",
        "\n",
        "df[df['Insult'] == 0].head(10)"
      ],
      "execution_count": null,
      "outputs": [
        {
          "output_type": "execute_result",
          "data": {
            "text/html": [
              "<div>\n",
              "<style scoped>\n",
              "    .dataframe tbody tr th:only-of-type {\n",
              "        vertical-align: middle;\n",
              "    }\n",
              "\n",
              "    .dataframe tbody tr th {\n",
              "        vertical-align: top;\n",
              "    }\n",
              "\n",
              "    .dataframe thead th {\n",
              "        text-align: right;\n",
              "    }\n",
              "</style>\n",
              "<table border=\"1\" class=\"dataframe\">\n",
              "  <thead>\n",
              "    <tr style=\"text-align: right;\">\n",
              "      <th></th>\n",
              "      <th>Insult</th>\n",
              "      <th>Date</th>\n",
              "      <th>Comment</th>\n",
              "    </tr>\n",
              "  </thead>\n",
              "  <tbody>\n",
              "    <tr>\n",
              "      <th>1</th>\n",
              "      <td>0</td>\n",
              "      <td>20120528192215Z</td>\n",
              "      <td>\"i really don't understand your point.\\xa0 It ...</td>\n",
              "    </tr>\n",
              "    <tr>\n",
              "      <th>2</th>\n",
              "      <td>0</td>\n",
              "      <td>NaN</td>\n",
              "      <td>\"A\\\\xc2\\\\xa0majority of Canadians can and has ...</td>\n",
              "    </tr>\n",
              "    <tr>\n",
              "      <th>3</th>\n",
              "      <td>0</td>\n",
              "      <td>NaN</td>\n",
              "      <td>\"listen if you dont wanna get married to a man...</td>\n",
              "    </tr>\n",
              "    <tr>\n",
              "      <th>4</th>\n",
              "      <td>0</td>\n",
              "      <td>20120619094753Z</td>\n",
              "      <td>\"C\\xe1c b\\u1ea1n xu\\u1ed1ng \\u0111\\u01b0\\u1edd...</td>\n",
              "    </tr>\n",
              "    <tr>\n",
              "      <th>5</th>\n",
              "      <td>0</td>\n",
              "      <td>20120620171226Z</td>\n",
              "      <td>\"@SDL OK, but I would hope they'd sign him to ...</td>\n",
              "    </tr>\n",
              "    <tr>\n",
              "      <th>6</th>\n",
              "      <td>0</td>\n",
              "      <td>20120503012628Z</td>\n",
              "      <td>\"Yeah and where are you now?\"</td>\n",
              "    </tr>\n",
              "    <tr>\n",
              "      <th>10</th>\n",
              "      <td>0</td>\n",
              "      <td>20120620015140Z</td>\n",
              "      <td>\"@jdstorm dont wish him injury but it happened...</td>\n",
              "    </tr>\n",
              "    <tr>\n",
              "      <th>11</th>\n",
              "      <td>0</td>\n",
              "      <td>20120530044519Z</td>\n",
              "      <td>\"Be careful,Jimbo.OG has a fork with your name...</td>\n",
              "    </tr>\n",
              "    <tr>\n",
              "      <th>12</th>\n",
              "      <td>0</td>\n",
              "      <td>NaN</td>\n",
              "      <td>\"@tonnyb  Or they just don't pay attention \"</td>\n",
              "    </tr>\n",
              "    <tr>\n",
              "      <th>13</th>\n",
              "      <td>0</td>\n",
              "      <td>NaN</td>\n",
              "      <td>\"Hmmm. Perhaps some who are too pig-faced to g...</td>\n",
              "    </tr>\n",
              "  </tbody>\n",
              "</table>\n",
              "</div>"
            ],
            "text/plain": [
              "    Insult             Date                                            Comment\n",
              "1        0  20120528192215Z  \"i really don't understand your point.\\xa0 It ...\n",
              "2        0              NaN  \"A\\\\xc2\\\\xa0majority of Canadians can and has ...\n",
              "3        0              NaN  \"listen if you dont wanna get married to a man...\n",
              "4        0  20120619094753Z  \"C\\xe1c b\\u1ea1n xu\\u1ed1ng \\u0111\\u01b0\\u1edd...\n",
              "5        0  20120620171226Z  \"@SDL OK, but I would hope they'd sign him to ...\n",
              "6        0  20120503012628Z                      \"Yeah and where are you now?\"\n",
              "10       0  20120620015140Z  \"@jdstorm dont wish him injury but it happened...\n",
              "11       0  20120530044519Z  \"Be careful,Jimbo.OG has a fork with your name...\n",
              "12       0              NaN       \"@tonnyb  Or they just don't pay attention \"\n",
              "13       0              NaN  \"Hmmm. Perhaps some who are too pig-faced to g..."
            ]
          },
          "metadata": {
            "tags": []
          },
          "execution_count": 10
        }
      ]
    },
    {
      "cell_type": "code",
      "metadata": {
        "colab": {
          "base_uri": "https://localhost:8080/",
          "height": 348
        },
        "id": "JLI-0cQRr6d1",
        "outputId": "f775464b-90a9-4394-9ff3-938602459517"
      },
      "source": [
        "#Code for checking 10 Insulting Comments\n",
        "\n",
        "df[df['Insult'] == 1].head(10)"
      ],
      "execution_count": null,
      "outputs": [
        {
          "output_type": "execute_result",
          "data": {
            "text/html": [
              "<div>\n",
              "<style scoped>\n",
              "    .dataframe tbody tr th:only-of-type {\n",
              "        vertical-align: middle;\n",
              "    }\n",
              "\n",
              "    .dataframe tbody tr th {\n",
              "        vertical-align: top;\n",
              "    }\n",
              "\n",
              "    .dataframe thead th {\n",
              "        text-align: right;\n",
              "    }\n",
              "</style>\n",
              "<table border=\"1\" class=\"dataframe\">\n",
              "  <thead>\n",
              "    <tr style=\"text-align: right;\">\n",
              "      <th></th>\n",
              "      <th>Insult</th>\n",
              "      <th>Date</th>\n",
              "      <th>Comment</th>\n",
              "    </tr>\n",
              "  </thead>\n",
              "  <tbody>\n",
              "    <tr>\n",
              "      <th>0</th>\n",
              "      <td>1</td>\n",
              "      <td>20120618192155Z</td>\n",
              "      <td>\"You fuck your dad.\"</td>\n",
              "    </tr>\n",
              "    <tr>\n",
              "      <th>7</th>\n",
              "      <td>1</td>\n",
              "      <td>NaN</td>\n",
              "      <td>\"shut the fuck up. you and the rest of your fa...</td>\n",
              "    </tr>\n",
              "    <tr>\n",
              "      <th>8</th>\n",
              "      <td>1</td>\n",
              "      <td>20120502173553Z</td>\n",
              "      <td>\"Either you are fake or extremely stupid...may...</td>\n",
              "    </tr>\n",
              "    <tr>\n",
              "      <th>9</th>\n",
              "      <td>1</td>\n",
              "      <td>20120620160512Z</td>\n",
              "      <td>\"That you are an idiot who understands neither...</td>\n",
              "    </tr>\n",
              "    <tr>\n",
              "      <th>15</th>\n",
              "      <td>1</td>\n",
              "      <td>20120611090207Z</td>\n",
              "      <td>\"FOR SOME REASON U SOUND RETARDED. LOL. DAMN. ...</td>\n",
              "    </tr>\n",
              "    <tr>\n",
              "      <th>16</th>\n",
              "      <td>1</td>\n",
              "      <td>20120320162532Z</td>\n",
              "      <td>\"You with the 'racist' screen name\\n\\nYou are ...</td>\n",
              "    </tr>\n",
              "    <tr>\n",
              "      <th>18</th>\n",
              "      <td>1</td>\n",
              "      <td>20120320075347Z</td>\n",
              "      <td>\"your such a dickhead...\"</td>\n",
              "    </tr>\n",
              "    <tr>\n",
              "      <th>19</th>\n",
              "      <td>1</td>\n",
              "      <td>20120320203947Z</td>\n",
              "      <td>\"Your a retard go post your head up your #%&amp;*\"</td>\n",
              "    </tr>\n",
              "    <tr>\n",
              "      <th>34</th>\n",
              "      <td>1</td>\n",
              "      <td>20120515132156Z</td>\n",
              "      <td>\"Allinit123, your\\xa0hypocrisy\\xa0is sickening...</td>\n",
              "    </tr>\n",
              "    <tr>\n",
              "      <th>37</th>\n",
              "      <td>1</td>\n",
              "      <td>20120620161958Z</td>\n",
              "      <td>\"I can't believe the stupid people on this sit...</td>\n",
              "    </tr>\n",
              "  </tbody>\n",
              "</table>\n",
              "</div>"
            ],
            "text/plain": [
              "    Insult             Date                                            Comment\n",
              "0        1  20120618192155Z                               \"You fuck your dad.\"\n",
              "7        1              NaN  \"shut the fuck up. you and the rest of your fa...\n",
              "8        1  20120502173553Z  \"Either you are fake or extremely stupid...may...\n",
              "9        1  20120620160512Z  \"That you are an idiot who understands neither...\n",
              "15       1  20120611090207Z  \"FOR SOME REASON U SOUND RETARDED. LOL. DAMN. ...\n",
              "16       1  20120320162532Z  \"You with the 'racist' screen name\\n\\nYou are ...\n",
              "18       1  20120320075347Z                          \"your such a dickhead...\"\n",
              "19       1  20120320203947Z     \"Your a retard go post your head up your #%&*\"\n",
              "34       1  20120515132156Z  \"Allinit123, your\\xa0hypocrisy\\xa0is sickening...\n",
              "37       1  20120620161958Z  \"I can't believe the stupid people on this sit..."
            ]
          },
          "metadata": {
            "tags": []
          },
          "execution_count": 11
        }
      ]
    },
    {
      "cell_type": "code",
      "metadata": {
        "id": "bG2lphu7ri4e"
      },
      "source": [
        "# splitting Labels and comments\n",
        "label, comments = df['Insult'],df['Comment']"
      ],
      "execution_count": null,
      "outputs": []
    },
    {
      "cell_type": "code",
      "metadata": {
        "colab": {
          "base_uri": "https://localhost:8080/"
        },
        "id": "SV60dm-jri4e",
        "outputId": "8164cd95-2d94-4f44-f942-4c0eb47409af"
      },
      "source": [
        "# checking label, comments\n",
        "type(label), type(comments)"
      ],
      "execution_count": null,
      "outputs": [
        {
          "output_type": "execute_result",
          "data": {
            "text/plain": [
              "(pandas.core.series.Series, pandas.core.series.Series)"
            ]
          },
          "metadata": {
            "tags": []
          },
          "execution_count": 13
        }
      ]
    },
    {
      "cell_type": "markdown",
      "metadata": {
        "id": "Hz5QVx1Qri4e"
      },
      "source": [
        "## II. Data Wrangling\n",
        "\n",
        "Once the data has been loaded, data wrangling pipeline is being created to clean data and remove garbage characters. \n",
        "\n",
        "1. Text Cleansing.\n",
        "2. Tokenization\n",
        "3. Stemming\n",
        "4. Lemmatization\n",
        "5. Stop words removal\n"
      ]
    },
    {
      "cell_type": "markdown",
      "metadata": {
        "id": "dJZitAcHri4e"
      },
      "source": [
        "####  Text Cleaning: To Lower Case"
      ]
    },
    {
      "cell_type": "code",
      "metadata": {
        "id": "hr8EaKpMri4e"
      },
      "source": [
        "# converting data to lowercase\n",
        "comments=comments.str.lower()"
      ],
      "execution_count": null,
      "outputs": []
    },
    {
      "cell_type": "code",
      "metadata": {
        "colab": {
          "base_uri": "https://localhost:8080/",
          "height": 72
        },
        "id": "kYQ21NQ5ri4e",
        "outputId": "ee047193-4ce7-4e6f-e56c-219211cb038d"
      },
      "source": [
        "comments.iloc[5]"
      ],
      "execution_count": null,
      "outputs": [
        {
          "output_type": "execute_result",
          "data": {
            "application/vnd.google.colaboratory.intrinsic+json": {
              "type": "string"
            },
            "text/plain": [
              "'\"@sdl ok, but i would hope they\\'d sign him to a one-year contract to start with. give him the chance to be reliable and productive, but give themselves the out if all his time off has hurt his playing skills or if he falls back into old habits.\"'"
            ]
          },
          "metadata": {
            "tags": []
          },
          "execution_count": 20
        }
      ]
    },
    {
      "cell_type": "code",
      "metadata": {
        "id": "SymJygN1ri4e"
      },
      "source": [
        "# for tokenizing sentences\n",
        "from nltk import sent_tokenize\n",
        "\n",
        "# for word tokenizing\n",
        "from nltk import word_tokenize\n"
      ],
      "execution_count": null,
      "outputs": []
    },
    {
      "cell_type": "markdown",
      "metadata": {
        "id": "6fB1WwS1ri4e"
      },
      "source": [
        "#### Text Cleaning: Removing special characters"
      ]
    },
    {
      "cell_type": "code",
      "metadata": {
        "id": "pbzxn_NZri4e"
      },
      "source": [
        "# regular expressions to remove punctuations\n",
        "import re\n",
        "from re import sub\n",
        "import string\n",
        "\n",
        "def remove_special_char(x):\n",
        "    # this will replace all punctuations with spaces\n",
        "    punc = string.punctuation\n",
        "    pat= r\"[{}]\".format(punc)\n",
        "    x=re.sub(pat, \" \", x)\n",
        "    \n",
        "    # this will replace all digits with None\n",
        "    x=re.sub(pattern=r\"\\d\", repl=r\" \", string=x)\n",
        "    \n",
        "    # this will print the root words through lemmatization\n",
        "    return \" \".join( i for i in lemmatize(x))"
      ],
      "execution_count": null,
      "outputs": []
    },
    {
      "cell_type": "markdown",
      "metadata": {
        "id": "DQrc_FgcGlA-"
      },
      "source": [
        "Vamsi"
      ]
    },
    {
      "cell_type": "markdown",
      "metadata": {
        "id": "RNOQhUoEri4f"
      },
      "source": [
        "#### Stemming and Lemmatization"
      ]
    },
    {
      "cell_type": "code",
      "metadata": {
        "colab": {
          "base_uri": "https://localhost:8080/"
        },
        "id": "KyT4LwTt5Azs",
        "outputId": "da0c8af0-bb75-4d4c-a6bd-7218d3683133"
      },
      "source": [
        "import nltk\n",
        "nltk.download('wordnet')\n",
        "nltk.download('stopwords')"
      ],
      "execution_count": null,
      "outputs": [
        {
          "output_type": "stream",
          "text": [
            "[nltk_data] Downloading package wordnet to /root/nltk_data...\n",
            "[nltk_data]   Package wordnet is already up-to-date!\n",
            "[nltk_data] Downloading package stopwords to /root/nltk_data...\n",
            "[nltk_data]   Unzipping corpora/stopwords.zip.\n"
          ],
          "name": "stdout"
        },
        {
          "output_type": "execute_result",
          "data": {
            "text/plain": [
              "True"
            ]
          },
          "metadata": {
            "tags": []
          },
          "execution_count": 46
        }
      ]
    },
    {
      "cell_type": "code",
      "metadata": {
        "id": "mbadOvZ3ri4f"
      },
      "source": [
        "# Lemmatization using Wordnet Lemmatizer \n",
        "from nltk.stem.wordnet import WordNetLemmatizer\n",
        "#Stemming using Porter stemmer\n",
        "from nltk.stem import PorterStemmer \n",
        "\n",
        "def lemmatize(x):\n",
        "    st = WordNetLemmatizer()\n",
        "    words=x.strip().split()\n",
        "    \n",
        "    return [st.lemmatize(x) for x in words]"
      ],
      "execution_count": null,
      "outputs": []
    },
    {
      "cell_type": "code",
      "metadata": {
        "id": "bl_LUdSeri4f"
      },
      "source": [
        "#making a copy of transformed \n",
        "comments_tran = comments.apply(remove_special_char)"
      ],
      "execution_count": null,
      "outputs": []
    },
    {
      "cell_type": "code",
      "metadata": {
        "colab": {
          "base_uri": "https://localhost:8080/"
        },
        "id": "gwBBcbsrri4f",
        "outputId": "b4722c92-9d31-44ae-ce02-ae1d9e3641a4"
      },
      "source": [
        "# checking the change\n",
        "comments.iloc[5], comments_tran.iloc[5]"
      ],
      "execution_count": null,
      "outputs": [
        {
          "output_type": "execute_result",
          "data": {
            "text/plain": [
              "('\"@sdl ok, but i would hope they\\'d sign him to a one-year contract to start with. give him the chance to be reliable and productive, but give themselves the out if all his time off has hurt his playing skills or if he falls back into old habits.\"',\n",
              " \"sdl ok but i would hope they'd sign him to a one-year contract to start with give him the chance to be reliable and productive but give themselves the out if all his time off ha hurt his playing skill or if he fall back into old habit\")"
            ]
          },
          "metadata": {
            "tags": []
          },
          "execution_count": 84
        }
      ]
    },
    {
      "cell_type": "markdown",
      "metadata": {
        "id": "_NU9wmG0ri4f"
      },
      "source": [
        "#### Removing Stopwords"
      ]
    },
    {
      "cell_type": "code",
      "metadata": {
        "colab": {
          "base_uri": "https://localhost:8080/"
        },
        "id": "OMQGj9VRri4f",
        "outputId": "d5603153-8c78-45a2-9115-f3cb5d47c584"
      },
      "source": [
        "import nltk\n",
        "from nltk.corpus import stopwords\n",
        "# getting stopwords for classifier\n",
        "stopWords = set(stopwords.words('english'))\n",
        "type(stopWords), len(stopWords)"
      ],
      "execution_count": null,
      "outputs": [
        {
          "output_type": "execute_result",
          "data": {
            "text/plain": [
              "(set, 179)"
            ]
          },
          "metadata": {
            "tags": []
          },
          "execution_count": 47
        }
      ]
    },
    {
      "cell_type": "markdown",
      "metadata": {
        "id": "urjm8v8Qri4f"
      },
      "source": [
        "#### Tokenization"
      ]
    },
    {
      "cell_type": "code",
      "metadata": {
        "colab": {
          "base_uri": "https://localhost:8080/"
        },
        "id": "apqcAZyori4f",
        "outputId": "b0575aab-abaf-4232-c13e-7b98569f5213"
      },
      "source": [
        "tf = text.TfidfVectorizer(stop_words=stopWords, ngram_range=(1, 1))\n",
        "X = tf.fit_transform(comments_tran)\n",
        "print(X.shape)"
      ],
      "execution_count": null,
      "outputs": [
        {
          "output_type": "stream",
          "text": [
            "(3947, 13952)\n"
          ],
          "name": "stdout"
        }
      ]
    },
    {
      "cell_type": "code",
      "metadata": {
        "colab": {
          "base_uri": "https://localhost:8080/"
        },
        "id": "zOIE6szdri4g",
        "outputId": "03b6ea89-f1ef-4c2e-ca69-82ac857abcf2"
      },
      "source": [
        "# checking the sparsity of matrix\n",
        "print(\"Each sample has ~{0:.2%} non-zero features.\".format(X.nnz / float(X.shape[0] * X.shape[1])))"
      ],
      "execution_count": null,
      "outputs": [
        {
          "output_type": "stream",
          "text": [
            "Each sample has ~0.11% non-zero features.\n"
          ],
          "name": "stdout"
        }
      ]
    },
    {
      "cell_type": "code",
      "metadata": {
        "colab": {
          "base_uri": "https://localhost:8080/"
        },
        "id": "-kMAu5ctri4g",
        "outputId": "2af95c55-a850-4798-e9a6-1faa19477771"
      },
      "source": [
        "# Storing words in vocab list\n",
        "vocab=list((tf.vocabulary_).keys())\n",
        "len(vocab)"
      ],
      "execution_count": null,
      "outputs": [
        {
          "output_type": "execute_result",
          "data": {
            "text/plain": [
              "13952"
            ]
          },
          "metadata": {
            "tags": []
          },
          "execution_count": 50
        }
      ]
    },
    {
      "cell_type": "code",
      "metadata": {
        "id": "tmzE4kHtri4g",
        "outputId": "623c0163-1a29-4783-b72e-3ca053fabab1"
      },
      "source": [
        "vocab.sort()\n",
        "print(vocab[:50])"
      ],
      "execution_count": null,
      "outputs": [
        {
          "output_type": "stream",
          "text": [
            "['aaaaaaaaa', 'aaaah', 'aaahhh', 'aac', 'aamir', 'aap', 'aarongmy', 'ab', 'abacha', 'abandon', 'abc', 'abe', 'abel', 'aberdeen', 'abet', 'abid', 'abigail', 'abil', 'ability', 'abit', 'abl', 'abnorm', 'abolish', 'abolit', 'abomin', 'abort', 'abortifaci', 'abortion', 'abov', 'abraham', 'abroad', 'abrupt', 'abscam', 'absenc', 'absolut', 'absolutejok', 'absolutely', 'abstain', 'abstractfirework', 'absurd', 'absurdum', 'absurt', 'aburrido', 'abus', 'abuse', 'abuses', 'abxxv', 'abysm', 'ac', 'academ']\n"
          ],
          "name": "stdout"
        }
      ]
    },
    {
      "cell_type": "markdown",
      "metadata": {
        "id": "mdAa8e7Tri4g"
      },
      "source": [
        "# III. Building Model\n",
        "\n",
        "I started out by trying linear classification models **Naïve Bayes, SVMs, and Logistic Regression** for building the classifier as they are very common and easy models for classification. \n",
        "\n",
        "Following this I built Non-Linear classifiers  like **Random Forest Classifier, Decision Tree Classifier**. Evnetually, I compare how these classifiers perform. \n",
        "\n",
        "I have implemented each of these classifiers with only unigrams features, followed by basic preprocessing (such as lowercasing all letters, removing punctuation and stemming)."
      ]
    },
    {
      "cell_type": "markdown",
      "metadata": {
        "id": "udhBKKS7ri4h"
      },
      "source": [
        "#### Preparing Data - Train and Validation"
      ]
    },
    {
      "cell_type": "code",
      "metadata": {
        "id": "hbtA9Enhri4h"
      },
      "source": [
        "(X_train, X_val,label_train, label_val) = train_test_split(X, label, test_size=.2)"
      ],
      "execution_count": null,
      "outputs": []
    },
    {
      "cell_type": "code",
      "metadata": {
        "colab": {
          "base_uri": "https://localhost:8080/"
        },
        "id": "iumIAYrOri4h",
        "outputId": "f394ad85-b7ad-449c-b0df-d31968e82815"
      },
      "source": [
        "# investigating the shape of data\n",
        "X_train.shape, X_val.shape"
      ],
      "execution_count": null,
      "outputs": [
        {
          "output_type": "execute_result",
          "data": {
            "text/plain": [
              "((3157, 13952), (790, 13952))"
            ]
          },
          "metadata": {
            "tags": []
          },
          "execution_count": 53
        }
      ]
    },
    {
      "cell_type": "code",
      "metadata": {
        "id": "vBilsUxDri4c"
      },
      "source": [
        "# Support Vector machine\n",
        "from sklearn import svm\n",
        "# Naive Bayes\n",
        "import sklearn.naive_bayes as nb\n",
        "# Logistic Regression\n",
        "from sklearn.linear_model import LogisticRegression\n",
        "# decision tree\n",
        "from sklearn.tree import DecisionTreeClassifier\n",
        "# random forest \n",
        "from sklearn.ensemble import RandomForestClassifier"
      ],
      "execution_count": null,
      "outputs": []
    },
    {
      "cell_type": "markdown",
      "metadata": {
        "id": "I-Ha9qOQri4h"
      },
      "source": [
        "## Linear Classification Models"
      ]
    },
    {
      "cell_type": "markdown",
      "metadata": {
        "id": "XyLvdSivri4h"
      },
      "source": [
        "### 1. Logistic Regression (LR)\n",
        "\n"
      ]
    },
    {
      "cell_type": "code",
      "metadata": {
        "id": "3iey5goAri4h"
      },
      "source": [
        "def model_LR():\n",
        "    # creating classifier\n",
        "    clf = LogisticRegression(tol=1e-8, penalty='l2', C=2)\n",
        "    # training classifier\n",
        "    clf.fit(X_train, label_train)\n",
        "    # model type\n",
        "    print(\"Model: \",type(clf))\n",
        "    # Predicting probabilities\n",
        "    p = clf.predict_proba(X_val)\n",
        "    return (clf.predict(X_val),p)"
      ],
      "execution_count": null,
      "outputs": []
    },
    {
      "cell_type": "markdown",
      "metadata": {
        "id": "ADoP9HeUri4h"
      },
      "source": [
        "### 2. Support Vector Machine (SVM)\n",
        "\n"
      ]
    },
    {
      "cell_type": "code",
      "metadata": {
        "id": "0zR4rmn2ri4h"
      },
      "source": [
        "def model_SVM():\n",
        "    # creating classifier\n",
        "    clf = svm.LinearSVC(penalty='l2', loss='squared_hinge',tol=1e-8)\n",
        "    # training classifier\n",
        "    clf.fit(X_train, label_train)\n",
        "    # model type\n",
        "    print(\"Model: \",type(clf))\n",
        "    return clf.predict(X_val)"
      ],
      "execution_count": null,
      "outputs": []
    },
    {
      "cell_type": "markdown",
      "metadata": {
        "id": "c906tbQZri4h"
      },
      "source": [
        "### 3. Naive Bayes (NB)\n",
        "\n"
      ]
    },
    {
      "cell_type": "code",
      "metadata": {
        "id": "966CVwMCri4h"
      },
      "source": [
        "# Bernoulli Naive Baiyes\n",
        "def model_BernoulliNB():\n",
        "    # creating classifier\n",
        "    clf = nb.BernoulliNB(alpha=1.0, binarize=0.0)\n",
        "    # training classifier\n",
        "    clf.fit(X_train, label_train)\n",
        "    # model type\n",
        "    print(\"Model: \",type(clf))\n",
        "    # Predicting probabilities\n",
        "    p = clf.predict_proba(X_val)\n",
        "    return (clf.predict(X_val),p)"
      ],
      "execution_count": null,
      "outputs": []
    },
    {
      "cell_type": "markdown",
      "metadata": {
        "id": "Mtarf2VUri4h"
      },
      "source": [
        "## Non-Linear Classification Models\n"
      ]
    },
    {
      "cell_type": "markdown",
      "metadata": {
        "id": "XC5GRC5uri4h"
      },
      "source": [
        "### 1. Random Forest Classifier"
      ]
    },
    {
      "cell_type": "code",
      "metadata": {
        "id": "gzfyIUZxri4h"
      },
      "source": [
        "# Random Forest Classifier\n",
        "def model_RF():\n",
        "    # creating classifier\n",
        "    clf = RandomForestClassifier(n_estimators=100)\n",
        "    # training classifier\n",
        "    clf.fit(X_train, label_train)\n",
        "    # model type\n",
        "    print(\"Model: \",type(clf))\n",
        "    # Predicting probabilities\n",
        "    p = clf.predict_proba(X_val)\n",
        "    return (clf.predict(X_val),p)"
      ],
      "execution_count": null,
      "outputs": []
    },
    {
      "cell_type": "markdown",
      "metadata": {
        "id": "FkOTmnuzri4h"
      },
      "source": [
        "### 2. Decision Tree Classifier (DT)"
      ]
    },
    {
      "cell_type": "code",
      "metadata": {
        "id": "KgEF_sJnri4h"
      },
      "source": [
        "def model_DT():\n",
        "    # creating classifier\n",
        "    clf = DecisionTreeClassifier(max_depth=100)\n",
        "    # training classifier\n",
        "    clf.fit(X_train, label_train)\n",
        "    # model type\n",
        "    print(\"Model: \",type(clf))\n",
        "    # Predicting probabilities\n",
        "    p = clf.predict_proba(X_val)\n",
        "    return (clf.predict(X_val),p)"
      ],
      "execution_count": null,
      "outputs": []
    },
    {
      "cell_type": "markdown",
      "metadata": {
        "id": "XW_-UV6dPQ7Q"
      },
      "source": [
        "Pramodh"
      ]
    },
    {
      "cell_type": "markdown",
      "metadata": {
        "id": "rtKNKdcyri4j"
      },
      "source": [
        "# IV. Model Evaluation\n",
        "\n",
        "The primary evaluation metrics that I have used on my system training are **accuracy and 10-fold cross validation**. I used the training accuracy to determine how well the model is fitting in training data and testing with validation data. The cross validation accuracy was more significant because it was more generalized."
      ]
    },
    {
      "cell_type": "code",
      "metadata": {
        "id": "Z5O1Il0Fri4j"
      },
      "source": [
        "# ROC and AUC score\n",
        "from sklearn.metrics import roc_auc_score as auc_score\n",
        "# Confusion Matrix\n",
        "from sklearn.metrics import confusion_matrix"
      ],
      "execution_count": null,
      "outputs": []
    },
    {
      "cell_type": "code",
      "metadata": {
        "id": "2D1TaIJcri4j"
      },
      "source": [
        "def model_evaluation(model,label_test):\n",
        "    #accuracy=np.mean(model == label_test)\n",
        "    #print(\"%.4f\"%np.mean(model == label_test))\n",
        "    # confusion matrix:\n",
        "    cm = confusion_matrix(label_test, model, labels=None, sample_weight=None)\n",
        "    tp, fn, fp, tn = cm[0][0], cm[0][1], cm[1][0], cm[1][1]\n",
        "    precision= float(tp)/(tp+fp)\n",
        "    recall =  float(tp)/(tp+tn)\n",
        "    accuracy = np.mean(model == label_test)\n",
        "    print_results (precision, recall, accuracy)\n",
        "    return accuracy\n",
        "    \n",
        "\n",
        "def print_results (precision, recall, accuracy):\n",
        "    banner = \"Here is the classification report\"\n",
        "    print ('\\n',banner)\n",
        "    print ('=' * len(banner))\n",
        "    print ('{0:10s} {1:.1f}'.format('Precision',precision*100))\n",
        "    print ('{0:10s} {1:.1f}'.format('Recall',recall*100))\n",
        "    print ('{0:10s} {1:.1f}'.format('Accuracy',accuracy*100))\n",
        "    \n",
        "    \n",
        "    #print(\"*****PRECISION****\")\n",
        "    #print(\"%.4f\"%(tp/(tp+fp)))\n",
        "    #print(\"*****RECALL****\")\n",
        "    #print(\"%.4f\"%(tp/(tp+tn)))\n",
        "    #return accuracy"
      ],
      "execution_count": null,
      "outputs": []
    },
    {
      "cell_type": "markdown",
      "metadata": {
        "id": "_Omgqs0vri4j"
      },
      "source": [
        "## Model Accuracy, Precision, Recall"
      ]
    },
    {
      "cell_type": "markdown",
      "metadata": {
        "id": "fkLitlpFri4j"
      },
      "source": [
        "#### Logistic Regression"
      ]
    },
    {
      "cell_type": "code",
      "metadata": {
        "scrolled": true,
        "colab": {
          "base_uri": "https://localhost:8080/"
        },
        "id": "7uq97dkWri4j",
        "outputId": "5d8a70e1-c538-4b1f-dd64-a486f5248b83"
      },
      "source": [
        "# model prediction\n",
        "clf_LR, p = model_LR()\n",
        "# model evaluation\n",
        "acc_LR = model_evaluation(clf_LR, label_val)\n",
        "\n",
        "print ('{0:10s} {1:.1f}'.format('AUC Score',auc_score(label_val, p[:,1])*100))"
      ],
      "execution_count": null,
      "outputs": [
        {
          "output_type": "stream",
          "text": [
            "Model:  <class 'sklearn.linear_model._logistic.LogisticRegression'>\n",
            "\n",
            " Here is the classification report\n",
            "=================================\n",
            "Precision  81.2\n",
            "Recall     88.7\n",
            "Accuracy   81.5\n",
            "AUC Score  85.7\n"
          ],
          "name": "stdout"
        }
      ]
    },
    {
      "cell_type": "markdown",
      "metadata": {
        "id": "rqrSMDRIri4j"
      },
      "source": [
        "#### Support Vector Machine"
      ]
    },
    {
      "cell_type": "code",
      "metadata": {
        "colab": {
          "base_uri": "https://localhost:8080/"
        },
        "id": "luJgGUeeri4j",
        "outputId": "8c2587e5-7c22-4143-b8f3-5128b9ca243a"
      },
      "source": [
        "# model prediction\n",
        "clf_SVM = model_SVM()\n",
        "# model evaluation\n",
        "acc_SVM = model_evaluation(clf_SVM, label_val)"
      ],
      "execution_count": null,
      "outputs": [
        {
          "output_type": "stream",
          "text": [
            "Model:  <class 'sklearn.svm._classes.LinearSVC'>\n",
            "\n",
            " Here is the classification report\n",
            "=================================\n",
            "Precision  83.8\n",
            "Recall     84.9\n",
            "Accuracy   82.4\n"
          ],
          "name": "stdout"
        }
      ]
    },
    {
      "cell_type": "markdown",
      "metadata": {
        "id": "5HmjIDAfri4j"
      },
      "source": [
        "#### Naive Bayes"
      ]
    },
    {
      "cell_type": "code",
      "metadata": {
        "colab": {
          "base_uri": "https://localhost:8080/"
        },
        "id": "w6xDD9BNri4j",
        "outputId": "ca5868e6-6115-4756-d0d8-c975ad31e739"
      },
      "source": [
        "# model prediction\n",
        "clf_NB,p=model_BernoulliNB()\n",
        "# model evaluation\n",
        "acc_NB = model_evaluation(clf_NB, label_val)\n",
        "\n",
        "print ('{0:10s} {1:.1f}'.format('AUC Score',auc_score(label_val, p[:,1])*100))"
      ],
      "execution_count": null,
      "outputs": [
        {
          "output_type": "stream",
          "text": [
            "Model:  <class 'sklearn.naive_bayes.BernoulliNB'>\n",
            "\n",
            " Here is the classification report\n",
            "=================================\n",
            "Precision  76.2\n",
            "Recall     94.9\n",
            "Accuracy   74.6\n",
            "AUC Score  79.0\n"
          ],
          "name": "stdout"
        }
      ]
    },
    {
      "cell_type": "markdown",
      "metadata": {
        "id": "74cnG3lZri4j"
      },
      "source": [
        "#### Random Forest"
      ]
    },
    {
      "cell_type": "code",
      "metadata": {
        "colab": {
          "base_uri": "https://localhost:8080/"
        },
        "id": "DdFIbM2Dri4j",
        "outputId": "683bc008-c142-45c3-e49f-95352e7bc6d9"
      },
      "source": [
        "# model prediction\n",
        "clf_RF,p=model_RF()\n",
        "# model evaluation\n",
        "acc_RF = model_evaluation(clf_RF, label_val)\n",
        "\n",
        "print ('{0:10s} {1:.1f}'.format('AUC Score',auc_score(label_val, p[:,1])*100))"
      ],
      "execution_count": null,
      "outputs": [
        {
          "output_type": "stream",
          "text": [
            "Model:  <class 'sklearn.ensemble._forest.RandomForestClassifier'>\n",
            "\n",
            " Here is the classification report\n",
            "=================================\n",
            "Precision  82.5\n",
            "Recall     86.7\n",
            "Accuracy   81.8\n",
            "AUC Score  82.8\n"
          ],
          "name": "stdout"
        }
      ]
    },
    {
      "cell_type": "markdown",
      "metadata": {
        "id": "yLrEdtWrri4j"
      },
      "source": [
        "#### Decision Tree"
      ]
    },
    {
      "cell_type": "code",
      "metadata": {
        "colab": {
          "base_uri": "https://localhost:8080/"
        },
        "id": "74vr1fHbri4k",
        "outputId": "6c07a965-a116-4a2e-9afb-c7445f908750"
      },
      "source": [
        "# model prediction\n",
        "clf_DT,p=model_DT()\n",
        "# model evaluation\n",
        "acc_DT = model_evaluation(clf_DT, label_val)\n",
        "\n",
        "print ('{0:10s} {1:.1f}'.format('AUC Score',auc_score(label_val, p[:,1])*100))"
      ],
      "execution_count": null,
      "outputs": [
        {
          "output_type": "stream",
          "text": [
            "Model:  <class 'sklearn.tree._classes.DecisionTreeClassifier'>\n",
            "\n",
            " Here is the classification report\n",
            "=================================\n",
            "Precision  85.5\n",
            "Recall     81.9\n",
            "Accuracy   81.1\n",
            "AUC Score  70.5\n"
          ],
          "name": "stdout"
        }
      ]
    },
    {
      "cell_type": "code",
      "metadata": {
        "id": "BWi7FqhPri4k"
      },
      "source": [
        "# Accuracy for all Models\n",
        "accuracy_normal=[acc_LR, acc_SVM, acc_NB, acc_RF, acc_DT]\n",
        "accuracy_normal=[('{0:2f}'.format(i*100)) for i in accuracy_normal]"
      ],
      "execution_count": null,
      "outputs": []
    },
    {
      "cell_type": "code",
      "metadata": {
        "colab": {
          "base_uri": "https://localhost:8080/"
        },
        "id": "tkbns0g3ri4k",
        "outputId": "500e6ca4-50e7-4482-8588-d60a9d34df50"
      },
      "source": [
        "accuracy_normal"
      ],
      "execution_count": null,
      "outputs": [
        {
          "output_type": "execute_result",
          "data": {
            "text/plain": [
              "['81.518987', '82.405063', '74.556962', '81.772152', '81.139241']"
            ]
          },
          "metadata": {
            "tags": []
          },
          "execution_count": 68
        }
      ]
    },
    {
      "cell_type": "markdown",
      "metadata": {
        "id": "KjaIHknlri4k"
      },
      "source": [
        "## Accuracy : 10-Fold Cross Validation"
      ]
    },
    {
      "cell_type": "code",
      "metadata": {
        "id": "mfJWxWgrri4k"
      },
      "source": [
        "# Logistic Regression\n",
        "clf1 = LogisticRegression(tol=1e-8, penalty='l2', C=2)\n",
        "# Support Vector Machines\n",
        "clf2 = svm.LinearSVC(penalty='l2', loss='squared_hinge')\n",
        "# Naive Bayes\n",
        "clf3 = nb.BernoulliNB(alpha=1.0, binarize=0.0)\n",
        "# Random Forest\n",
        "clf4 = RandomForestClassifier(n_estimators=100)\n",
        "# Decision Tree\n",
        "clf5 = DecisionTreeClassifier(max_depth=100)\n",
        "\n",
        "models=[clf1, clf2, clf3, clf4, clf5]"
      ],
      "execution_count": null,
      "outputs": []
    },
    {
      "cell_type": "code",
      "metadata": {
        "colab": {
          "base_uri": "https://localhost:8080/"
        },
        "id": "91bw5W8Rri4k",
        "outputId": "81f25c4c-caa2-4f9c-daae-a645b18804f6"
      },
      "source": [
        "n_Folds = 10\n",
        "# Accuracy after cross validation:\n",
        "accuracy_cv=[]\n",
        "for clf in models:\n",
        "    accuracy_common=0\n",
        "    for test_run in range(n_Folds):\n",
        "        (X_train, X_test, y_train, y_test) = train_test_split(X, label, test_size=.2)\n",
        "        # call classifier\n",
        "        clf.fit(X_train, y_train)\n",
        "        model=clf.predict(X_test)\n",
        "        # compare result\n",
        "        accuracy=np.mean(model == y_test)\n",
        "        # append to common\n",
        "        accuracy_common += accuracy\n",
        "        # final score\n",
        "    print ('{0:10s} {1:.1f}'.format('Accuracy',float(accuracy_common)/10*100))\n",
        "    accuracy_cv.append('{0:.1f}'.format(float(accuracy_common)/10*100))\n",
        "    \n",
        "print(\"Normal Accuracy\")\n",
        "print(\"================\")\n",
        "print(accuracy_normal)\n",
        "print(\"Accuracy post CV\")\n",
        "print(\"================\")\n",
        "print(accuracy_cv)"
      ],
      "execution_count": null,
      "outputs": [
        {
          "output_type": "stream",
          "text": [
            "Accuracy   81.6\n",
            "Accuracy   82.1\n",
            "Accuracy   74.1\n",
            "Accuracy   82.0\n",
            "Accuracy   79.0\n",
            "Normal Accuracy\n",
            "================\n",
            "['81.518987', '82.405063', '74.556962', '81.772152', '81.139241']\n",
            "Accuracy post CV\n",
            "================\n",
            "['81.6', '82.1', '74.1', '82.0', '79.0']\n"
          ],
          "name": "stdout"
        }
      ]
    },
    {
      "cell_type": "markdown",
      "metadata": {
        "id": "_LfnZ4WMPV6_"
      },
      "source": [
        "Akhilesh"
      ]
    },
    {
      "cell_type": "markdown",
      "metadata": {
        "id": "QGpdGPxJri4k"
      },
      "source": [
        "# V. Results\n",
        "\n",
        "With all of the above features and techniques implemented, a cross-validation accuracy of 82.8% was achieved for **Support Vector Machine** Classifier. This was followed by **Random Forest Classifier and Logistic Regression** Respectively.\n",
        "\n",
        "Following diagram visually represent the results gained after Cross Validation."
      ]
    },
    {
      "cell_type": "code",
      "metadata": {
        "id": "n_yWolviri4k"
      },
      "source": [
        "import seaborn as sns\n",
        "import warnings\n",
        "import matplotlib.pyplot as plt; plt.rcdefaults()\n",
        "%matplotlib inline\n",
        "\n",
        "# set plot size\n",
        "fig_size=[7,7]\n",
        "plt.rcParams[\"figure.figsize\"] = fig_size\n",
        "\n",
        "# setting style\n",
        "sns.set_style(\"whitegrid\")\n",
        "warnings.filterwarnings('ignore')"
      ],
      "execution_count": null,
      "outputs": []
    },
    {
      "cell_type": "markdown",
      "metadata": {
        "id": "kCUm5LXFri4k"
      },
      "source": [
        "### Model Evaluation: Basic Accuracy"
      ]
    },
    {
      "cell_type": "code",
      "metadata": {
        "colab": {
          "base_uri": "https://localhost:8080/",
          "height": 462
        },
        "id": "iqDicswsri4k",
        "outputId": "89c02622-d167-48e0-9e6d-aef2cc99c626"
      },
      "source": [
        "linear_models = ('Logistic Regression', 'SVM', 'Naive Bayes', 'Random Forest', 'Decision Tree')\n",
        "y_pos = np.arange(len(linear_models)) \n",
        "plt.bar(y_pos, accuracy_normal, align='center', alpha=0.5, color='green')\n",
        "plt.xticks(y_pos, linear_models)\n",
        "plt.ylabel('Accuracy')\n",
        "plt.title('Insult Classification Models')"
      ],
      "execution_count": null,
      "outputs": [
        {
          "output_type": "execute_result",
          "data": {
            "text/plain": [
              "Text(0.5, 1.0, 'Insult Classification Models')"
            ]
          },
          "metadata": {
            "tags": []
          },
          "execution_count": 76
        },
        {
          "output_type": "display_data",
          "data": {
            "image/png": "[encoded data removed]",
            "text/plain": [
              "<Figure size 504x504 with 1 Axes>"
            ]
          },
          "metadata": {
            "tags": []
          }
        }
      ]
    },
    {
      "cell_type": "code",
      "metadata": {
        "scrolled": true,
        "colab": {
          "base_uri": "https://localhost:8080/",
          "height": 462
        },
        "id": "0nG2OOCUri4k",
        "outputId": "dd832cd0-96ae-4839-9865-d76f9cc0e85e"
      },
      "source": [
        "linear_models = ('Logistic Regression', 'SVM', 'Naive Bayes', 'Random Forest', 'Decision Tree')\n",
        "y_pos = np.arange(len(linear_models)) \n",
        "plt.bar(y_pos, accuracy_cv, align='center', alpha=0.5, color='m')\n",
        "plt.xticks(y_pos, linear_models)\n",
        "plt.ylabel('Accuracy')\n",
        "plt.title('Insult Classification Models')"
      ],
      "execution_count": null,
      "outputs": [
        {
          "output_type": "execute_result",
          "data": {
            "text/plain": [
              "Text(0.5, 1.0, 'Insult Classification Models')"
            ]
          },
          "metadata": {
            "tags": []
          },
          "execution_count": 74
        },
        {
          "output_type": "display_data",
          "data": {
            "image/png": "[encoded data removed]",
            "text/plain": [
              "<Figure size 504x504 with 1 Axes>"
            ]
          },
          "metadata": {
            "tags": []
          }
        }
      ]
    },
    {
      "cell_type": "code",
      "metadata": {
        "id": "_2605Aseri4k"
      },
      "source": [
        ""
      ],
      "execution_count": null,
      "outputs": []
    }
  ]
}